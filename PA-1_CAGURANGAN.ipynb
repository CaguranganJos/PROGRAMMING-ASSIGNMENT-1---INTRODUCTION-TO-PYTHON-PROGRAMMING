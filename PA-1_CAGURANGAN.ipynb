{
 "cells": [
  {
   "cell_type": "markdown",
   "id": "e0c02dee-eed1-4537-94c6-2f6b25f3ff4f",
   "metadata": {},
   "source": [
    "# PA 1 - INTRODUCTION TO PYTHON PROGRAMMING "
   ]
  },
  {
   "cell_type": "markdown",
   "id": "2dc45e1e-3492-4adb-89b4-a0f844ce1efb",
   "metadata": {},
   "source": [
    "Name: Cagurangan, Jos Kendrick L."
   ]
  },
  {
   "cell_type": "markdown",
   "id": "50682f4b-fa61-4128-9cc9-82970d20897c",
   "metadata": {},
   "source": [
    "Section: 2ECE-B"
   ]
  },
  {
   "cell_type": "markdown",
   "id": "e9e47415-7ddb-4a1b-a791-875d4c77a999",
   "metadata": {},
   "source": [
    "#### PA 1.1 ALPHABET SOUP PROBLEM"
   ]
  },
  {
   "cell_type": "code",
   "execution_count": 1,
   "id": "429d34f5-6b2e-4c78-986c-b22ff5081044",
   "metadata": {},
   "outputs": [
    {
     "name": "stdout",
     "output_type": "stream",
     "text": [
      "ehllo\n",
      "aacdenv\n",
      "aggimmnoprr\n"
     ]
    }
   ],
   "source": [
    "#The main function that sorts the characters of a string into alphabetically order\n",
    "def alphabet_order(word):\n",
    "    word = word.lower() #Makes the characters all in lower case\n",
    "    letters = list(word) #Makes the string into seperate characters\n",
    "    letters.sort() #Sorts the characters in ascending order (base from ASCII order)\n",
    "    final = \"\".join(letters) #Paste all the characters together in the string \"final\"\n",
    "    return final #returns the value (alphabetically ordered letters) in string \"final\" to the function\n",
    "\n",
    "print(alphabet_order(\"hello\")) #Example 1 without any uppercase letters\n",
    "print(alphabet_order(\"Advance\")) #Example 2 with an uppercase letter\n",
    "print(alphabet_order(\"PRoGrAmMinG\")) #Example 3 with random uppercase letters"
   ]
  },
  {
   "cell_type": "markdown",
   "id": "ed95520b-5815-4aa9-ad4e-6764f7e2942a",
   "metadata": {},
   "source": [
    "#### PA 1.2 EMOTICON PROBLEM"
   ]
  },
  {
   "cell_type": "code",
   "execution_count": 2,
   "id": "63069000-5a33-4f85-ba5a-4cdacc71a6fb",
   "metadata": {},
   "outputs": [
    {
     "name": "stdout",
     "output_type": "stream",
     "text": [
      "This is :)\n",
      "This is :D\n",
      "This is :((\n",
      "This is >:(\n"
     ]
    }
   ],
   "source": [
    "#The main function that replaces a word that corresponds to emoticons\n",
    "def emotifier(sentence):\n",
    "    emoji = {\"smile\": \":)\", \"grin\":\":D\", \"sad\":\":((\", \"mad\":\">:(\"} #The dictionary of emoticons keys are the words and values are the emoticons\n",
    "    words = sentence.split() #Splits the words into different valued characters\n",
    "\n",
    "    #For loop statement that changes the words that have a corresponding key in the dictionary(emoji) into emoticons\n",
    "    for i in range(len(words)): #Detects the number of words and puts them in a range(respective indices) starting with 0\n",
    "        lower_case = words[i].lower() #makes all characters lower case, ensuring it corresponds to a key\n",
    "        if lower_case in emoji: #If statement that has a condition that every character that has a corresponding key is replaced with the value of that key  \n",
    "            words[i] = emoji[lower_case] #Conditions are met; therefore replace with the emoticons\n",
    "\n",
    "    result = \" \".join(words) #Puts together the words that was sliced with a space\n",
    "    return result #return the results into a string\n",
    "\n",
    "print(emotifier(\"This is smile\"))\n",
    "print(emotifier(\"This is Grin\"))\n",
    "print(emotifier(\"This is SaD\"))\n",
    "print(emotifier(\"This is MAD\"))"
   ]
  },
  {
   "cell_type": "markdown",
   "id": "cbd89ec9-bf28-4efd-84fc-ff165ec075f0",
   "metadata": {},
   "source": [
    "#### PA 1.3 UNPACKING LIST PROBLEM"
   ]
  },
  {
   "cell_type": "code",
   "execution_count": 3,
   "id": "7e9c4079-14ea-4983-a4d6-e352fe88996e",
   "metadata": {},
   "outputs": [
    {
     "name": "stdout",
     "output_type": "stream",
     "text": [
      "first: 1\n",
      "middle: [2, 3, 4, 5]\n",
      "last: 6\n"
     ]
    }
   ],
   "source": [
    "numbers = [1,2,3,4,5,6] #List containing the numbers(variables)\n",
    "\n",
    "first = numbers[0] #Stores in \"first\" the 0 index value in the list \"numbers\"\n",
    "middle = numbers[1:-1] #Stores values in the range starting in 1 and end with -1(but -1 is excluded)\n",
    "last = numbers[-1] #Stores in \"last\" the -1 index value in the list \"numbers\"\n",
    "\n",
    "print(\"first:\",first) #Prints the first element\n",
    "print(\"middle:\",middle) #Prints the middle elements\n",
    "print(\"last:\",last) #Prints the last elements"
   ]
  },
  {
   "cell_type": "code",
   "execution_count": 4,
   "id": "2b151cce-5897-407f-9350-a60a7c3b6bde",
   "metadata": {},
   "outputs": [
    {
     "name": "stdout",
     "output_type": "stream",
     "text": [
      "first: Apple\n",
      "middle: ['Banana', 'Cherry', 'Dragon Fruits', 'Egg Plant']\n",
      "last: Finger Lime\n"
     ]
    }
   ],
   "source": [
    "words = [\"Apple\", \"Banana\", \"Cherry\", \"Dragon Fruits\", \"Egg Plant\", \"Finger Lime\"] #List containing the words(variables)\n",
    "\n",
    "first = words[0] #Stores in \"first\" the 0 index value in the list \"words\"\n",
    "middle = words[1:-1] #Stores values in the range starting in index 1 and ending with -1(but -1 is excluded)\n",
    "last = words[-1] #Stores in \"last\" the -1 index value in the list \"words\"\n",
    "\n",
    "print(\"first:\",first) #Prints the first element\n",
    "print(\"middle:\",middle) #Prints the middle elements\n",
    "print(\"last:\",last) #Prints the last elements"
   ]
  },
  {
   "cell_type": "code",
   "execution_count": null,
   "id": "e22e0635-a664-4a41-8203-c494749965a1",
   "metadata": {},
   "outputs": [],
   "source": []
  }
 ],
 "metadata": {
  "kernelspec": {
   "display_name": "Python [conda env:base] *",
   "language": "python",
   "name": "conda-base-py"
  },
  "language_info": {
   "codemirror_mode": {
    "name": "ipython",
    "version": 3
   },
   "file_extension": ".py",
   "mimetype": "text/x-python",
   "name": "python",
   "nbconvert_exporter": "python",
   "pygments_lexer": "ipython3",
   "version": "3.13.5"
  }
 },
 "nbformat": 4,
 "nbformat_minor": 5
}
